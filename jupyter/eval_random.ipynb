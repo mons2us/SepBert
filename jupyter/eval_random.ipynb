{
 "cells": [
  {
   "cell_type": "code",
   "execution_count": 4,
   "metadata": {},
   "outputs": [],
   "source": [
    "import torch\n",
    "import numpy as np\n",
    "import random\n",
    "import segeval\n",
    "from sklearn.metrics import precision_score, recall_score, f1_score"
   ]
  },
  {
   "cell_type": "code",
   "execution_count": 3,
   "metadata": {},
   "outputs": [],
   "source": [
    "dataset = torch.load('dataset/bfly/eval_data/eval_set.pt', map_location='cpu')"
   ]
  },
  {
   "cell_type": "code",
   "execution_count": 20,
   "metadata": {},
   "outputs": [],
   "source": [
    "random.seed(227182)\n",
    "\n",
    "precision, recall, f1, wd, pk = [], [], [], [], []\n",
    "for doc, ref in dataset:\n",
    "\n",
    "    num = len(doc) - 1\n",
    "\n",
    "    pred_points = sorted(random.sample(range(1, num + 1), 4))\n",
    "    seg_points = [0] + pred_points + [num + 1]\n",
    "    segs = tuple([seg_points[i+1] - seg_points[i] for i in range(len(seg_points)-1)])\n",
    "    \n",
    "    ref_points = np.cumsum(ref)[:-1] - 1\n",
    "\n",
    "    pred_bin = [1 if i in pred_points else 0 for i in range(num)]\n",
    "    ref_bin = [1 if i in ref_points else 0 for i in range(num)]\n",
    "\n",
    "    pre = precision_score(y_true=ref_bin, y_pred=pred_bin, average='binary')\n",
    "    rec = recall_score(y_true=ref_bin, y_pred=pred_bin, average='binary')\n",
    "    f1_tmp = f1_score(y_true=ref_bin, y_pred=pred_bin, average='binary')\n",
    "\n",
    "    precision.append(pre)\n",
    "    recall.append(rec)\n",
    "    f1.append(f1_tmp)\n",
    "    wd.append(float(segeval.window_diff(ref, segs)))\n",
    "    pk.append(float(segeval.pk(ref, segs)))"
   ]
  },
  {
   "cell_type": "code",
   "execution_count": 21,
   "metadata": {
    "scrolled": true
   },
   "outputs": [
    {
     "data": {
      "text/plain": [
       "(0.06399999999999999,\n",
       " 0.063,\n",
       " 0.06342857142857143,\n",
       " 0.5077472027815453,\n",
       " 0.4876982540570194)"
      ]
     },
     "execution_count": 21,
     "metadata": {},
     "output_type": "execute_result"
    }
   ],
   "source": [
    "np.mean(precision), np.mean(recall), np.mean(f1), np.mean(wd), np.mean(pk)"
   ]
  },
  {
   "cell_type": "code",
   "execution_count": 1,
   "metadata": {},
   "outputs": [],
   "source": [
    "import torch"
   ]
  },
  {
   "cell_type": "code",
   "execution_count": 2,
   "metadata": {},
   "outputs": [
    {
     "data": {
      "text/plain": [
       "tensor([0.8131])"
      ]
     },
     "execution_count": 2,
     "metadata": {},
     "output_type": "execute_result"
    }
   ],
   "source": [
    "torch.sigmoid(torch.tensor([1.47]))"
   ]
  },
  {
   "cell_type": "code",
   "execution_count": 19,
   "metadata": {},
   "outputs": [],
   "source": [
    "random.seed(227182)\n",
    "\n",
    "precision, recall, f1, wd, pk = [], [], [], [], []\n",
    "for doc, ref in dataset:\n",
    "\n",
    "    num = len(doc) - 1\n",
    "\n",
    "    pred_points = [14, 27, 40, 53] if num + 1 > 53 else [14, 27, 40]\n",
    "    seg_points = [0] + pred_points + [num + 1]\n",
    "    segs = tuple([seg_points[i+1] - seg_points[i] for i in range(len(seg_points)-1)])\n",
    "    \n",
    "    ref_points = np.cumsum(ref)[:-1] - 1\n",
    "\n",
    "    pred_bin = [1 if i in pred_points else 0 for i in range(num)]\n",
    "    ref_bin = [1 if i in ref_points else 0 for i in range(num)]\n",
    "\n",
    "    pre = precision_score(y_true=ref_bin, y_pred=pred_bin, average='binary')\n",
    "    rec = recall_score(y_true=ref_bin, y_pred=pred_bin, average='binary')\n",
    "    f1_tmp = f1_score(y_true=ref_bin, y_pred=pred_bin, average='binary')\n",
    "\n",
    "    precision.append(pre)\n",
    "    recall.append(rec)\n",
    "    f1.append(f1_tmp)\n",
    "    wd.append(float(segeval.window_diff(ref, segs)))\n",
    "    pk.append(float(segeval.pk(ref, segs)))"
   ]
  },
  {
   "cell_type": "code",
   "execution_count": 18,
   "metadata": {},
   "outputs": [
    {
     "data": {
      "text/plain": [
       "(0.07758333333333332,\n",
       " 0.0775,\n",
       " 0.07753571428571428,\n",
       " 0.4117728542262794,\n",
       " 0.4117728542262794)"
      ]
     },
     "execution_count": 18,
     "metadata": {},
     "output_type": "execute_result"
    }
   ],
   "source": [
    "np.mean(precision), np.mean(recall), np.mean(f1), np.mean(wd), np.mean(pk)"
   ]
  }
 ],
 "metadata": {
  "kernelspec": {
   "display_name": "Python 3",
   "language": "python",
   "name": "python3"
  },
  "language_info": {
   "codemirror_mode": {
    "name": "ipython",
    "version": 3
   },
   "file_extension": ".py",
   "mimetype": "text/x-python",
   "name": "python",
   "nbconvert_exporter": "python",
   "pygments_lexer": "ipython3",
   "version": "3.8.5"
  }
 },
 "nbformat": 4,
 "nbformat_minor": 4
}
